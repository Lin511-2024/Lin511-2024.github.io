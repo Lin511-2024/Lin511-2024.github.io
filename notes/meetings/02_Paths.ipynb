{
 "cells": [
  {
   "cell_type": "raw",
   "metadata": {},
   "source": [
    "---\n",
    "title: Paths in Python\n",
    "categories: \n",
    "    - python\n",
    "filters:\n",
    "    - codeblocklabel\n",
    "---"
   ]
  },
  {
   "cell_type": "code",
   "execution_count": 1,
   "metadata": {},
   "outputs": [],
   "source": [
    "from pathlib import Path"
   ]
  },
  {
   "cell_type": "markdown",
   "metadata": {},
   "source": [
    "`Path()` will return a relative path to the current directory, which is represented as `.`."
   ]
  },
  {
   "cell_type": "code",
   "execution_count": 2,
   "metadata": {},
   "outputs": [
    {
     "name": "stdout",
     "output_type": "stream",
     "text": [
      ".\n"
     ]
    }
   ],
   "source": [
    "this_directory = Path()\n",
    "print(this_directory)"
   ]
  },
  {
   "cell_type": "markdown",
   "metadata": {},
   "source": [
    "If we use the `.resolve()` method on `this_directory`, we'll get back the [absolute path](../concepts/02_undersdanding-paths.qmd#absolute-paths)."
   ]
  },
  {
   "cell_type": "code",
   "execution_count": 3,
   "metadata": {},
   "outputs": [
    {
     "name": "stdout",
     "output_type": "stream",
     "text": [
      "/workspaces/Lin511-2024.github.io/notes/meetings\n"
     ]
    }
   ],
   "source": [
    "absolute_path = this_directory.resolve()\n",
    "print(absolute_path)"
   ]
  },
  {
   "cell_type": "markdown",
   "metadata": {},
   "source": [
    "We can get the path to the directory above from the `.parent` attribute."
   ]
  },
  {
   "cell_type": "code",
   "execution_count": 4,
   "metadata": {},
   "outputs": [
    {
     "name": "stdout",
     "output_type": "stream",
     "text": [
      "/workspaces/Lin511-2024.github.io/notes\n"
     ]
    }
   ],
   "source": [
    "print(\n",
    "    absolute_path.parent\n",
    ")"
   ]
  },
  {
   "cell_type": "markdown",
   "metadata": {},
   "source": [
    "We can get a list of all of the files and directories in a directory with the `.glob()` method. For technical reasons, we need to wrap `list()` around this."
   ]
  },
  {
   "cell_type": "code",
   "execution_count": 5,
   "metadata": {},
   "outputs": [
    {
     "data": {
      "text/plain": [
       "[PosixPath('/workspaces/Lin511-2024.github.io/notes/meetings/assets'),\n",
       " PosixPath('/workspaces/Lin511-2024.github.io/notes/meetings/01_Paths.ipynb'),\n",
       " PosixPath('/workspaces/Lin511-2024.github.io/notes/meetings/00_setup.qmd')]"
      ]
     },
     "execution_count": 5,
     "metadata": {},
     "output_type": "execute_result"
    }
   ],
   "source": [
    "list(\n",
    "    absolute_path.glob(\"*\")\n",
    ")"
   ]
  },
  {
   "cell_type": "markdown",
   "metadata": {},
   "source": [
    "You can get a list of all of the files and folders in the parent directory like so."
   ]
  },
  {
   "cell_type": "code",
   "execution_count": 6,
   "metadata": {},
   "outputs": [
    {
     "data": {
      "text/plain": [
       "[PosixPath('/workspaces/Lin511-2024.github.io/notes/.gitignore'),\n",
       " PosixPath('/workspaces/Lin511-2024.github.io/notes/concepts'),\n",
       " PosixPath('/workspaces/Lin511-2024.github.io/notes/meetings'),\n",
       " PosixPath('/workspaces/Lin511-2024.github.io/notes/index.qmd')]"
      ]
     },
     "execution_count": 6,
     "metadata": {},
     "output_type": "execute_result"
    }
   ],
   "source": [
    "list(\n",
    "    absolute_path\\\n",
    "        .parent\\\n",
    "        .glob(\"*\")\n",
    ")"
   ]
  },
  {
   "cell_type": "markdown",
   "metadata": {},
   "source": [
    "We can get a list of all of the files and directories in the `concepts` directory like so."
   ]
  },
  {
   "cell_type": "code",
   "execution_count": 7,
   "metadata": {},
   "outputs": [
    {
     "data": {
      "text/plain": [
       "[PosixPath('/workspaces/Lin511-2024.github.io/notes/concepts/02_undersdanding-paths.qmd'),\n",
       " PosixPath('/workspaces/Lin511-2024.github.io/notes/concepts/assets'),\n",
       " PosixPath('/workspaces/Lin511-2024.github.io/notes/concepts/01_what-is-python.qmd'),\n",
       " PosixPath('/workspaces/Lin511-2024.github.io/notes/concepts/03_navigating-directories.qmd'),\n",
       " PosixPath('/workspaces/Lin511-2024.github.io/notes/concepts/00_glossary.qmd')]"
      ]
     },
     "execution_count": 7,
     "metadata": {},
     "output_type": "execute_result"
    }
   ],
   "source": [
    "list(\n",
    "    absolute_path\\\n",
    "        .parent\\\n",
    "        .joinpath(\"concepts\")\\\n",
    "        .glob(\"*\")\n",
    ")"
   ]
  },
  {
   "cell_type": "markdown",
   "metadata": {},
   "source": [
    "## Opening a file\n",
    "\n",
    "We're going to read in the [text file here](assets/sample.txt)"
   ]
  },
  {
   "cell_type": "code",
   "execution_count": 11,
   "metadata": {},
   "outputs": [
    {
     "name": "stdout",
     "output_type": "stream",
     "text": [
      "['This is a sample file.\\n', 'It just has text.\\n', 'We can read and print its contents.']\n"
     ]
    }
   ],
   "source": [
    "text_file_path = Path(\"assets\", \"sample.txt\")\n",
    "\n",
    "with text_file_path.open() as file:\n",
    "    lines = file.readlines()\n",
    "\n",
    "print(lines)"
   ]
  }
 ],
 "metadata": {
  "kernelspec": {
   "display_name": "Lin511",
   "language": "python",
   "name": "python3"
  },
  "language_info": {
   "codemirror_mode": {
    "name": "ipython",
    "version": 3
   },
   "file_extension": ".py",
   "mimetype": "text/x-python",
   "name": "python",
   "nbconvert_exporter": "python",
   "pygments_lexer": "ipython3",
   "version": "3.11.4"
  }
 },
 "nbformat": 4,
 "nbformat_minor": 2
}
