{
 "cells": [
  {
   "cell_type": "raw",
   "metadata": {},
   "source": [
    "---\n",
    "title: Setup Notes\n",
    "date: 2024-01-08\n",
    "---"
   ]
  },
  {
   "cell_type": "markdown",
   "metadata": {},
   "source": [
    "## Setup\n",
    "\n",
    "We'll need to get our systems setup to work properly with the tools we'll be using this semester.\n",
    "\n",
    "### Windows Users\n",
    "\n",
    "If you ware using a windows computer, I'll ask you to install Windows Subsystem for Linux like so:\n",
    "\n",
    "1. Follow the tutorial here for enabling and installing WSL [https://lingmethodshub.github.io/content/windows/wsl/00_installing_wsl.html](https://lingmethodshub.github.io/content/windows/wsl/00_installing_wsl.html)\n",
    "2. Install VS Code [https://code.visualstudio.com/](https://code.visualstudio.com/)\n",
    "3. Work through the first section of this tutorial, stopping after you connect to WSL [https://code.visualstudio.com/docs/remote/wsl-tutorial#_prerequisites](https://code.visualstudio.com/docs/remote/wsl-tutorial#_prerequisites)\n",
    "\n",
    "### MacOS/Linux Users\n",
    "\n",
    "2. Install VS Code [https://code.visualstudio.com/](https://code.visualstudio.com/)\n"
   ]
  },
  {
   "cell_type": "markdown",
   "metadata": {},
   "source": []
  }
 ],
 "metadata": {
  "kernelspec": {
   "display_name": "lin511-2024",
   "language": "python",
   "name": "python3"
  },
  "language_info": {
   "codemirror_mode": {
    "name": "ipython",
    "version": 3
   },
   "file_extension": ".py",
   "mimetype": "text/x-python",
   "name": "python",
   "nbconvert_exporter": "python",
   "pygments_lexer": "ipython3",
   "version": "3.11.4"
  }
 },
 "nbformat": 4,
 "nbformat_minor": 2
}
