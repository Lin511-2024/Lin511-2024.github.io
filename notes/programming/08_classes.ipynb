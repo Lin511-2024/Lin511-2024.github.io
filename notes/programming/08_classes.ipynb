{
 "cells": [
  {
   "cell_type": "raw",
   "metadata": {
    "vscode": {
     "languageId": "raw"
    }
   },
   "source": [
    "---\n",
    "title: Classes\n",
    "date: 2024-04-09\n",
    "knitr: \n",
    "  opts_chunk: \n",
    "    #echo: false\n",
    "    message: false\n",
    "    warning: false\n",
    "    dev: ragg_png\n",
    "format:\n",
    "  html:\n",
    "    mermaid:\n",
    "      theme: neutral\n",
    "filters: \n",
    "  - codeblocklabel\n",
    "categories:\n",
    "  - python\n",
    "---"
   ]
  },
  {
   "cell_type": "markdown",
   "metadata": {},
   "source": [
    "So far, the kinds of objects of our own that we've created in python are **variables** and **functions**."
   ]
  },
  {
   "cell_type": "markdown",
   "metadata": {},
   "source": [
    "**Variables**:"
   ]
  },
  {
   "cell_type": "code",
   "execution_count": 1,
   "metadata": {},
   "outputs": [],
   "source": [
    "width = 8\n",
    "height = 5"
   ]
  },
  {
   "cell_type": "markdown",
   "metadata": {},
   "source": [
    "**Functions**:"
   ]
  },
  {
   "cell_type": "code",
   "execution_count": 2,
   "metadata": {},
   "outputs": [],
   "source": [
    "def area(width, height):\n",
    "    return width * height\n",
    "\n",
    "def perimeter(width, height):\n",
    "    return (2*width) + (2*height)"
   ]
  },
  {
   "cell_type": "code",
   "execution_count": 3,
   "metadata": {},
   "outputs": [
    {
     "data": {
      "text/plain": [
       "40"
      ]
     },
     "execution_count": 3,
     "metadata": {},
     "output_type": "execute_result"
    }
   ],
   "source": [
    "area(8, 5)"
   ]
  },
  {
   "cell_type": "code",
   "execution_count": 4,
   "metadata": {},
   "outputs": [
    {
     "data": {
      "text/plain": [
       "26"
      ]
     },
     "execution_count": 4,
     "metadata": {},
     "output_type": "execute_result"
    }
   ],
   "source": [
    "perimeter(8, 5)"
   ]
  },
  {
   "cell_type": "markdown",
   "metadata": {},
   "source": [
    "Today we're going to introduce a new type called **classes**. You've already been interacting with classes from other python packages, so this might demystify some of how python works."
   ]
  },
  {
   "cell_type": "code",
   "execution_count": 5,
   "metadata": {},
   "outputs": [],
   "source": [
    "import numpy as np"
   ]
  },
  {
   "cell_type": "markdown",
   "metadata": {},
   "source": [
    "## Classes\n",
    "\n",
    "Classes are python's implementation of what's known as \"object oriented programming\". They let us bundle together lots of different values, and functions for operating and updating those values in one single \"object\".\n",
    "\n",
    "For example, I'm currently working on a project that will need to bundle together lots of different speaker demographics, so I've been working on a `Speaker` class."
   ]
  },
  {
   "cell_type": "code",
   "execution_count": 6,
   "metadata": {},
   "outputs": [],
   "source": [
    "class Speaker():\n",
    "    pass"
   ]
  },
  {
   "cell_type": "markdown",
   "metadata": {},
   "source": [
    "The `class` keyword says that what follows will be a new kind of class. By convention, class names are in `TitleCase`."
   ]
  },
  {
   "cell_type": "markdown",
   "metadata": {},
   "source": [
    "### Initializing a class\n",
    "\n",
    "To tell a class what kind of values it should be \"initialized\" with, we need to define a special function inside the class called `__init__()`."
   ]
  },
  {
   "cell_type": "code",
   "execution_count": 7,
   "metadata": {},
   "outputs": [],
   "source": [
    "class Speaker():\n",
    "    def __init__(\n",
    "            self, \n",
    "            name = None,\n",
    "            pronoun = None,\n",
    "            age = None,\n",
    "            year = None\n",
    "    ):\n",
    "        self.name = name\n",
    "        self.pronoun = pronoun\n",
    "        self.age = age\n",
    "        self.year = year"
   ]
  },
  {
   "cell_type": "markdown",
   "metadata": {},
   "source": [
    "`__init__()` should always take a special variable called `self` as the first argument. The other arguments I defined all get assigned to an attribute of `self`. Here's how that looks in use."
   ]
  },
  {
   "cell_type": "code",
   "execution_count": 8,
   "metadata": {},
   "outputs": [],
   "source": [
    "# creating an *instance*\n",
    "joe = Speaker(\n",
    "    name = \"Joe F\", \n",
    "    pronoun = \"he\",\n",
    "    age = 39, \n",
    "    year = 2024\n",
    ")"
   ]
  },
  {
   "cell_type": "markdown",
   "metadata": {},
   "source": [
    "We can then get the attributes of the `joe` object with the `.` syntax."
   ]
  },
  {
   "cell_type": "code",
   "execution_count": 9,
   "metadata": {},
   "outputs": [
    {
     "data": {
      "text/plain": [
       "'Joe F'"
      ]
     },
     "execution_count": 9,
     "metadata": {},
     "output_type": "execute_result"
    }
   ],
   "source": [
    "joe.name"
   ]
  },
  {
   "cell_type": "code",
   "execution_count": 10,
   "metadata": {},
   "outputs": [
    {
     "data": {
      "text/plain": [
       "39"
      ]
     },
     "execution_count": 10,
     "metadata": {},
     "output_type": "execute_result"
    }
   ],
   "source": [
    "joe.age"
   ]
  },
  {
   "cell_type": "code",
   "execution_count": 11,
   "metadata": {},
   "outputs": [
    {
     "data": {
      "text/plain": [
       "2024"
      ]
     },
     "execution_count": 11,
     "metadata": {},
     "output_type": "execute_result"
    }
   ],
   "source": [
    "joe.year"
   ]
  },
  {
   "cell_type": "markdown",
   "metadata": {},
   "source": [
    "We can create another instance of `Speaker`."
   ]
  },
  {
   "cell_type": "code",
   "execution_count": 12,
   "metadata": {},
   "outputs": [
    {
     "data": {
      "text/plain": [
       "'Noam C'"
      ]
     },
     "execution_count": 12,
     "metadata": {},
     "output_type": "execute_result"
    }
   ],
   "source": [
    "noam = Speaker(\n",
    "    name = \"Noam C\", \n",
    "    pronoun = \"he\",\n",
    "    age = 95, \n",
    "    year = 2024\n",
    ")\n",
    "noam.name"
   ]
  },
  {
   "cell_type": "markdown",
   "metadata": {},
   "source": [
    "### More stuff in `__init__()`.\n",
    "\n",
    "Above, the `__init__()` function just assigns each input value to the same name attribute of the instance. But we can do more."
   ]
  },
  {
   "cell_type": "code",
   "execution_count": 13,
   "metadata": {},
   "outputs": [],
   "source": [
    "class Speaker():\n",
    "    def __init__(\n",
    "            self, \n",
    "            name = None,\n",
    "            pronoun = None,\n",
    "            age = None,\n",
    "            year = None\n",
    "    ):\n",
    "        self.name = name\n",
    "        self.pronoun = pronoun\n",
    "        self.age = age\n",
    "        self.year = year\n",
    "        self.dob = year - age"
   ]
  },
  {
   "cell_type": "code",
   "execution_count": 14,
   "metadata": {},
   "outputs": [],
   "source": [
    "joe = Speaker(\n",
    "    name = \"Joe F\", \n",
    "    pronoun = \"he\",\n",
    "    age = 39, \n",
    "    year = 2024\n",
    ")\n",
    "\n",
    "noam = Speaker(\n",
    "    name = \"Noam C\", \n",
    "    pronoun = \"he\",\n",
    "    age = 95, \n",
    "    year = 2024\n",
    ")"
   ]
  },
  {
   "cell_type": "code",
   "execution_count": 15,
   "metadata": {},
   "outputs": [
    {
     "data": {
      "text/plain": [
       "1985"
      ]
     },
     "execution_count": 15,
     "metadata": {},
     "output_type": "execute_result"
    }
   ],
   "source": [
    "joe.dob"
   ]
  },
  {
   "cell_type": "code",
   "execution_count": 16,
   "metadata": {},
   "outputs": [
    {
     "data": {
      "text/plain": [
       "1929"
      ]
     },
     "execution_count": 16,
     "metadata": {},
     "output_type": "execute_result"
    }
   ],
   "source": [
    "noam.dob"
   ]
  },
  {
   "cell_type": "markdown",
   "metadata": {},
   "source": [
    "### Making a class print nice\n",
    "\n",
    "Right now, if we say `print(joe)`, we're going to get a pretty ugly output."
   ]
  },
  {
   "cell_type": "code",
   "execution_count": 17,
   "metadata": {},
   "outputs": [
    {
     "name": "stdout",
     "output_type": "stream",
     "text": [
      "<__main__.Speaker object at 0x110022dd0>\n"
     ]
    }
   ],
   "source": [
    "print(joe)"
   ]
  },
  {
   "cell_type": "markdown",
   "metadata": {},
   "source": [
    "We can tell a class what it should print by defining a `__repr__()` method inside of it."
   ]
  },
  {
   "cell_type": "code",
   "execution_count": 18,
   "metadata": {},
   "outputs": [],
   "source": [
    "class Speaker():\n",
    "    def __init__(\n",
    "            self, \n",
    "            name = None,\n",
    "            pronoun = None,\n",
    "            age = None,\n",
    "            year = None\n",
    "    ):\n",
    "        self.name = name\n",
    "        self.pronoun = pronoun\n",
    "        self.age = age\n",
    "        self.year = year\n",
    "        self.dob = year - age\n",
    "\n",
    "    def __repr__(self):\n",
    "        return f\"{self.name} was interviewed in \"\\\n",
    "               f\"{self.year} when {self.pronoun} \"\\\n",
    "               f\"was {self.age} years old.\""
   ]
  },
  {
   "cell_type": "code",
   "execution_count": 19,
   "metadata": {},
   "outputs": [],
   "source": [
    "joe = Speaker(\n",
    "    name = \"Joe F\", \n",
    "    pronoun = \"he\",\n",
    "    age = 39, \n",
    "    year = 2024\n",
    ")\n",
    "\n",
    "noam = Speaker(\n",
    "    name = \"Noam C\", \n",
    "    pronoun = \"he\",\n",
    "    age = 95, \n",
    "    year = 2024\n",
    ")"
   ]
  },
  {
   "cell_type": "code",
   "execution_count": 20,
   "metadata": {},
   "outputs": [
    {
     "name": "stdout",
     "output_type": "stream",
     "text": [
      "Joe F was interviewed in 2024 when he was 39 years old.\n"
     ]
    }
   ],
   "source": [
    "print(joe)"
   ]
  },
  {
   "cell_type": "code",
   "execution_count": 21,
   "metadata": {},
   "outputs": [
    {
     "name": "stdout",
     "output_type": "stream",
     "text": [
      "Noam C was interviewed in 2024 when he was 95 years old.\n"
     ]
    }
   ],
   "source": [
    "print(noam)"
   ]
  },
  {
   "cell_type": "markdown",
   "metadata": {},
   "source": [
    "### Adding methods\n",
    "\n",
    "There might be things you want to *calculate* or otherwise derive from the values within class instance, or values you want to *update*. You can do this by defining additional methods."
   ]
  },
  {
   "cell_type": "code",
   "execution_count": 22,
   "metadata": {},
   "outputs": [],
   "source": [
    "class Speaker():\n",
    "    def __init__(\n",
    "            self, \n",
    "            name = None,\n",
    "            pronoun = None,\n",
    "            age = None,\n",
    "            year = None\n",
    "    ):\n",
    "        self.name = name\n",
    "        self.pronoun = pronoun\n",
    "        self.age = age\n",
    "        self.year = year\n",
    "        self.dob = year - age\n",
    "\n",
    "    def __repr__(self):\n",
    "        return f\"{self.name} was interviewed in \"\\\n",
    "               f\"{self.year} when {self.pronoun} \"\\\n",
    "               f\"was {self.age} years old.\"\n",
    "    \n",
    "    def age_in(self, year):\n",
    "        age = year - self.dob\n",
    "        if age < 0:\n",
    "            return np.nan\n",
    "        return age\n",
    "    \n",
    "    def year_when(self, age):\n",
    "        return self.dob + age"
   ]
  },
  {
   "cell_type": "code",
   "execution_count": 23,
   "metadata": {},
   "outputs": [],
   "source": [
    "joe = Speaker(\n",
    "    name = \"Joe F\", \n",
    "    pronoun = \"he\",\n",
    "    age = 39, \n",
    "    year = 2024\n",
    ")\n",
    "\n",
    "noam = Speaker(\n",
    "    name = \"Noam C\", \n",
    "    pronoun = \"he\",\n",
    "    age = 95, \n",
    "    year = 2024\n",
    ")"
   ]
  },
  {
   "cell_type": "markdown",
   "metadata": {},
   "source": [
    "If we wanted to see how old `noam` was when `joe` was born, we can now do this"
   ]
  },
  {
   "cell_type": "code",
   "execution_count": 24,
   "metadata": {},
   "outputs": [
    {
     "data": {
      "text/plain": [
       "56"
      ]
     },
     "execution_count": 24,
     "metadata": {},
     "output_type": "execute_result"
    }
   ],
   "source": [
    "noam.age_in(joe.dob)"
   ]
  },
  {
   "cell_type": "markdown",
   "metadata": {},
   "source": [
    "We'll get `nan` if we do the reverse, because we wrote the `age_in()` method not to return negative numbers."
   ]
  },
  {
   "cell_type": "code",
   "execution_count": 25,
   "metadata": {},
   "outputs": [
    {
     "data": {
      "text/plain": [
       "nan"
      ]
     },
     "execution_count": 25,
     "metadata": {},
     "output_type": "execute_result"
    }
   ],
   "source": [
    "joe.age_in(noam.dob)"
   ]
  },
  {
   "cell_type": "markdown",
   "metadata": {},
   "source": [
    "There was a notable event in 1971 when `Noam C` met `Michel F` over a large carafe of orange juice. Let's see how old he was."
   ]
  },
  {
   "cell_type": "code",
   "execution_count": 26,
   "metadata": {},
   "outputs": [
    {
     "data": {
      "text/plain": [
       "42"
      ]
     },
     "execution_count": 26,
     "metadata": {},
     "output_type": "execute_result"
    }
   ],
   "source": [
    "noam.age_in(1971)"
   ]
  },
  {
   "cell_type": "markdown",
   "metadata": {},
   "source": [
    "If `Joe F` wants to reach a similar landmark meeting by that age, what year will he have to do it in?"
   ]
  },
  {
   "cell_type": "code",
   "execution_count": 27,
   "metadata": {},
   "outputs": [
    {
     "data": {
      "text/plain": [
       "2027"
      ]
     },
     "execution_count": 27,
     "metadata": {},
     "output_type": "execute_result"
    }
   ],
   "source": [
    "joe.year_when(42)"
   ]
  },
  {
   "cell_type": "markdown",
   "metadata": {},
   "source": [
    "## What's the point of classes?\n",
    "\n",
    "Classes won't always be useful for a one-off usage, but they can be *really* useful when used in batches. Here's some sample demographics from the Philadelphia Neighborhood Corpus."
   ]
  },
  {
   "cell_type": "code",
   "execution_count": 28,
   "metadata": {},
   "outputs": [],
   "source": [
    "names = [\n",
    "    \"Adam M\", \n",
    "    \"Adan F\", \n",
    "    \"Adrienne M\", \n",
    "    \"Agnes\", \n",
    "    \"Agnes P\"\n",
    "]\n",
    "\n",
    "pronouns = [\n",
    "    \"he\",\n",
    "    \"he\",\n",
    "    \"she\",\n",
    "    \"she\",\n",
    "    \"she\"\n",
    "]\n",
    "\n",
    "ages = np.array([\n",
    "    83, 35, 35, 59, 50\n",
    "])\n",
    "\n",
    "years = np.array([\n",
    "    2004, 1981, 1991, 1979, 1974\n",
    "])"
   ]
  },
  {
   "cell_type": "markdown",
   "metadata": {},
   "source": [
    "We can create a list of speaker objects from this data."
   ]
  },
  {
   "cell_type": "code",
   "execution_count": 29,
   "metadata": {},
   "outputs": [],
   "source": [
    "speakers = [\n",
    "    Speaker(name, pronoun, age, year)\n",
    "    for name, pronoun, age, year in zip(\n",
    "        names, pronouns, ages, years\n",
    "    )\n",
    "]"
   ]
  },
  {
   "cell_type": "code",
   "execution_count": 30,
   "metadata": {},
   "outputs": [
    {
     "data": {
      "text/plain": [
       "[Adam M was interviewed in 2004 when he was 83 years old.,\n",
       " Adan F was interviewed in 1981 when he was 35 years old.,\n",
       " Adrienne M was interviewed in 1991 when she was 35 years old.,\n",
       " Agnes was interviewed in 1979 when she was 59 years old.,\n",
       " Agnes P was interviewed in 1974 when she was 50 years old.]"
      ]
     },
     "execution_count": 30,
     "metadata": {},
     "output_type": "execute_result"
    }
   ],
   "source": [
    "speakers"
   ]
  },
  {
   "cell_type": "markdown",
   "metadata": {},
   "source": [
    "We can get the dates of birth for everyone now with relatively little code."
   ]
  },
  {
   "cell_type": "code",
   "execution_count": 31,
   "metadata": {},
   "outputs": [
    {
     "data": {
      "text/plain": [
       "array([1921, 1946, 1956, 1920, 1924])"
      ]
     },
     "execution_count": 31,
     "metadata": {},
     "output_type": "execute_result"
    }
   ],
   "source": [
    "dobs = np.array([\n",
    "    speaker.dob\n",
    "    for speaker in speakers\n",
    "])\n",
    "dobs"
   ]
  },
  {
   "cell_type": "markdown",
   "metadata": {},
   "source": [
    "Two large events in Philadelphia were papal visits in 1979 and 2015. We can figure out how old everyone was on those two dates now."
   ]
  },
  {
   "cell_type": "code",
   "execution_count": 32,
   "metadata": {},
   "outputs": [
    {
     "data": {
      "text/plain": [
       "array([58, 33, 23, 59, 55])"
      ]
     },
     "execution_count": 32,
     "metadata": {},
     "output_type": "execute_result"
    }
   ],
   "source": [
    "first_pope_age = np.array([\n",
    "    speaker.age_in(1979)\n",
    "    for speaker in speakers\n",
    "])\n",
    "first_pope_age"
   ]
  },
  {
   "cell_type": "code",
   "execution_count": 33,
   "metadata": {},
   "outputs": [
    {
     "data": {
      "text/plain": [
       "array([94, 69, 59, 95, 91])"
      ]
     },
     "execution_count": 33,
     "metadata": {},
     "output_type": "execute_result"
    }
   ],
   "source": [
    "second_pope_age = np.array([\n",
    "    speaker.age_in(2015)\n",
    "    for speaker in speakers\n",
    "])\n",
    "second_pope_age"
   ]
  },
  {
   "cell_type": "markdown",
   "metadata": {},
   "source": [
    "## More advanced class features\n",
    "\n",
    "There are some more advanced features we can build into classes in python. A lot of them are accessed by these methods that begin and end with double underscores `__`, so-called \"dunder methods\". [Here's nice blog post about them.](https://mathspp.com/blog/pydonts/dunder-methods)\n",
    "\n",
    "### Comparison methods\n",
    "\n",
    "For example, with our `Speaker` class, theres no way to compare two instances with `<` or `==`."
   ]
  },
  {
   "cell_type": "code",
   "execution_count": 34,
   "metadata": {},
   "outputs": [
    {
     "ename": "TypeError",
     "evalue": "'>' not supported between instances of 'Speaker' and 'Speaker'",
     "output_type": "error",
     "traceback": [
      "\u001b[0;31m---------------------------------------------------------------------------\u001b[0m",
      "\u001b[0;31mTypeError\u001b[0m                                 Traceback (most recent call last)",
      "Cell \u001b[0;32mIn[34], line 1\u001b[0m\n\u001b[0;32m----> 1\u001b[0m \u001b[43mjoe\u001b[49m\u001b[43m \u001b[49m\u001b[38;5;241;43m>\u001b[39;49m\u001b[43m \u001b[49m\u001b[43mnoam\u001b[49m\n",
      "\u001b[0;31mTypeError\u001b[0m: '>' not supported between instances of 'Speaker' and 'Speaker'"
     ]
    }
   ],
   "source": [
    "joe > noam"
   ]
  },
  {
   "cell_type": "markdown",
   "metadata": {},
   "source": [
    "But, we *can* tell a class how to behave with respect to these operators. Let's say that the dimension we wanted to compare people on was their date of birth. "
   ]
  },
  {
   "cell_type": "code",
   "execution_count": 35,
   "metadata": {},
   "outputs": [],
   "source": [
    "class Speaker():\n",
    "    def __init__(\n",
    "            self, \n",
    "            name = None,\n",
    "            pronoun = None,\n",
    "            age = None,\n",
    "            year = None\n",
    "    ):\n",
    "        self.name = name\n",
    "        self.pronoun = pronoun\n",
    "        self.age = age\n",
    "        self.year = year\n",
    "        self.dob = year - age\n",
    "\n",
    "    def __repr__(self):\n",
    "        return f\"{self.name} was interviewed in \"\\\n",
    "               f\"{self.year} when {self.pronoun} \"\\\n",
    "               f\"was {self.age} years old.\"\n",
    "    \n",
    "    # defines < between self and another obj\n",
    "    def __lt__(self, obj):\n",
    "        return self.dob < obj.dob\n",
    "    \n",
    "    # defines <= self and another obj\n",
    "    def __le__(self, obj):\n",
    "        return self.dob <= obj.dob\n",
    "\n",
    "    def age_in(self, year):\n",
    "        age = year - self.dob\n",
    "        if age < 0:\n",
    "            return np.nan\n",
    "        return age\n",
    "    \n",
    "    def year_when(self, age):\n",
    "        return self.dob + age"
   ]
  },
  {
   "cell_type": "markdown",
   "metadata": {},
   "source": [
    "As it turns out, defining just `__lt__()` and `__le__()` is enough to get all of the comparison operators to work."
   ]
  },
  {
   "cell_type": "code",
   "execution_count": 36,
   "metadata": {},
   "outputs": [],
   "source": [
    "joe = Speaker(\n",
    "    name = \"Joe F\", \n",
    "    pronoun = \"he\",\n",
    "    age = 39, \n",
    "    year = 2024\n",
    ")\n",
    "\n",
    "noam = Speaker(\n",
    "    name = \"Noam C\", \n",
    "    pronoun = \"he\",\n",
    "    age = 95, \n",
    "    year = 2024\n",
    ")"
   ]
  },
  {
   "cell_type": "code",
   "execution_count": 37,
   "metadata": {},
   "outputs": [
    {
     "data": {
      "text/plain": [
       "False"
      ]
     },
     "execution_count": 37,
     "metadata": {},
     "output_type": "execute_result"
    }
   ],
   "source": [
    "joe < noam"
   ]
  },
  {
   "cell_type": "code",
   "execution_count": 38,
   "metadata": {},
   "outputs": [
    {
     "data": {
      "text/plain": [
       "True"
      ]
     },
     "execution_count": 38,
     "metadata": {},
     "output_type": "execute_result"
    }
   ],
   "source": [
    "joe >=  noam"
   ]
  },
  {
   "cell_type": "code",
   "execution_count": 39,
   "metadata": {},
   "outputs": [
    {
     "data": {
      "text/plain": [
       "False"
      ]
     },
     "execution_count": 39,
     "metadata": {},
     "output_type": "execute_result"
    }
   ],
   "source": [
    "joe == noam"
   ]
  },
  {
   "cell_type": "markdown",
   "metadata": {},
   "source": [
    "Having these less than and greater than methods defines also allows us to *sort* a list of objects."
   ]
  },
  {
   "cell_type": "code",
   "execution_count": 40,
   "metadata": {},
   "outputs": [],
   "source": [
    "speakers = [\n",
    "    Speaker(name, pronoun, age, year)\n",
    "    for name, pronoun, age, year in zip(\n",
    "        names, pronouns, ages, years\n",
    "    )\n",
    "]"
   ]
  },
  {
   "cell_type": "markdown",
   "metadata": {},
   "source": [
    "The order of objects in this list is just the order they appeared in in the original lists/arrays."
   ]
  },
  {
   "cell_type": "code",
   "execution_count": 41,
   "metadata": {},
   "outputs": [
    {
     "data": {
      "text/plain": [
       "[Adam M was interviewed in 2004 when he was 83 years old.,\n",
       " Adan F was interviewed in 1981 when he was 35 years old.,\n",
       " Adrienne M was interviewed in 1991 when she was 35 years old.,\n",
       " Agnes was interviewed in 1979 when she was 59 years old.,\n",
       " Agnes P was interviewed in 1974 when she was 50 years old.]"
      ]
     },
     "execution_count": 41,
     "metadata": {},
     "output_type": "execute_result"
    }
   ],
   "source": [
    "speakers"
   ]
  },
  {
   "cell_type": "markdown",
   "metadata": {},
   "source": [
    "But, with all of the comparison methods defined, we can get the `max()` and `min()` of this list."
   ]
  },
  {
   "cell_type": "code",
   "execution_count": 42,
   "metadata": {},
   "outputs": [
    {
     "data": {
      "text/plain": [
       "Adrienne M was interviewed in 1991 when she was 35 years old."
      ]
     },
     "execution_count": 42,
     "metadata": {},
     "output_type": "execute_result"
    }
   ],
   "source": [
    "youngest = max(speakers)\n",
    "youngest"
   ]
  },
  {
   "cell_type": "code",
   "execution_count": 43,
   "metadata": {},
   "outputs": [
    {
     "data": {
      "text/plain": [
       "Agnes was interviewed in 1979 when she was 59 years old."
      ]
     },
     "execution_count": 43,
     "metadata": {},
     "output_type": "execute_result"
    }
   ],
   "source": [
    "oldest = min(speakers)\n",
    "oldest"
   ]
  },
  {
   "cell_type": "markdown",
   "metadata": {},
   "source": [
    "And we can sort the list."
   ]
  },
  {
   "cell_type": "code",
   "execution_count": 44,
   "metadata": {},
   "outputs": [
    {
     "data": {
      "text/plain": [
       "[Agnes was interviewed in 1979 when she was 59 years old.,\n",
       " Adam M was interviewed in 2004 when he was 83 years old.,\n",
       " Agnes P was interviewed in 1974 when she was 50 years old.,\n",
       " Adan F was interviewed in 1981 when he was 35 years old.,\n",
       " Adrienne M was interviewed in 1991 when she was 35 years old.]"
      ]
     },
     "execution_count": 44,
     "metadata": {},
     "output_type": "execute_result"
    }
   ],
   "source": [
    "sorted(speakers)"
   ]
  },
  {
   "cell_type": "markdown",
   "metadata": {},
   "source": [
    "### Dynamic properties\n",
    "\n",
    "Sometimes, you might want to define dynamic properties of classes. For example, let's look at `noam`."
   ]
  },
  {
   "cell_type": "code",
   "execution_count": 45,
   "metadata": {},
   "outputs": [
    {
     "data": {
      "text/plain": [
       "(95, 2024, 1929)"
      ]
     },
     "execution_count": 45,
     "metadata": {},
     "output_type": "execute_result"
    }
   ],
   "source": [
    "(\n",
    "    noam.age,\n",
    "    noam.year,\n",
    "    noam.dob\n",
    ")"
   ]
  },
  {
   "cell_type": "markdown",
   "metadata": {},
   "source": [
    "Let's say we actually typoed the year, and `Noam C` was actually interviewed in 2023. We can update the year, but the date of birth won't be correctly updated."
   ]
  },
  {
   "cell_type": "code",
   "execution_count": 46,
   "metadata": {},
   "outputs": [
    {
     "data": {
      "text/plain": [
       "(95, 2023, 1929)"
      ]
     },
     "execution_count": 46,
     "metadata": {},
     "output_type": "execute_result"
    }
   ],
   "source": [
    "noam.year = 2023\n",
    "\n",
    "(\n",
    "    noam.age,\n",
    "    noam.year,\n",
    "    noam.dob\n",
    ")"
   ]
  },
  {
   "cell_type": "markdown",
   "metadata": {},
   "source": [
    "We can fix this by moving the definition of `dob` outside of the `__init__()` method, and into its own method decorated with `@property`."
   ]
  },
  {
   "cell_type": "code",
   "execution_count": 47,
   "metadata": {},
   "outputs": [],
   "source": [
    "class Speaker():\n",
    "    def __init__(\n",
    "            self, \n",
    "            name = None,\n",
    "            pronoun = None,\n",
    "            age = None,\n",
    "            year = None\n",
    "    ):\n",
    "        self.name = name\n",
    "        self.pronoun = pronoun\n",
    "        self.age = age\n",
    "        self.year = year\n",
    "\n",
    "    def __repr__(self):\n",
    "        return f\"{self.name} was interviewed in \"\\\n",
    "               f\"{self.year} when {self.pronoun} \"\\\n",
    "               f\"was {self.age} years old.\"\n",
    "    \n",
    "    # defines < between self and another obj\n",
    "    def __lt__(self, obj):\n",
    "        return self.dob < obj.dob\n",
    "    \n",
    "    # defines <= self and another obj\n",
    "    def __le__(self, obj):\n",
    "        return self.dob <= obj.dob\n",
    "    \n",
    "    # dynamically define dob\n",
    "    @property\n",
    "    def dob(self):\n",
    "        return self.year - self.age\n",
    "\n",
    "    def age_in(self, year):\n",
    "        age = year - self.dob\n",
    "        if age < 0:\n",
    "            return np.nan\n",
    "        return age\n",
    "    \n",
    "    def year_when(self, age):\n",
    "        return self.dob + age"
   ]
  },
  {
   "cell_type": "code",
   "execution_count": 48,
   "metadata": {},
   "outputs": [],
   "source": [
    "joe = Speaker(\n",
    "    name = \"Joe F\", \n",
    "    pronoun = \"he\",\n",
    "    age = 39, \n",
    "    year = 2024\n",
    ")\n",
    "\n",
    "noam = Speaker(\n",
    "    name = \"Noam C\", \n",
    "    pronoun = \"he\",\n",
    "    age = 95, \n",
    "    year = 2024\n",
    ")"
   ]
  },
  {
   "cell_type": "markdown",
   "metadata": {},
   "source": [
    "The basic values have remained the same,"
   ]
  },
  {
   "cell_type": "code",
   "execution_count": 49,
   "metadata": {},
   "outputs": [
    {
     "data": {
      "text/plain": [
       "(95, 2024, 1929)"
      ]
     },
     "execution_count": 49,
     "metadata": {},
     "output_type": "execute_result"
    }
   ],
   "source": [
    "(\n",
    "    noam.age,\n",
    "    noam.year,\n",
    "    noam.dob\n",
    ")"
   ]
  },
  {
   "cell_type": "markdown",
   "metadata": {},
   "source": [
    "But now, if we change the value of `noam.year`, the date of birth will be dynamically updated."
   ]
  },
  {
   "cell_type": "code",
   "execution_count": 50,
   "metadata": {},
   "outputs": [
    {
     "data": {
      "text/plain": [
       "(95, 2023, 1928)"
      ]
     },
     "execution_count": 50,
     "metadata": {},
     "output_type": "execute_result"
    }
   ],
   "source": [
    "noam.year = 2023\n",
    "\n",
    "(\n",
    "    noam.age,\n",
    "    noam.year,\n",
    "    noam.dob\n",
    ")"
   ]
  },
  {
   "cell_type": "markdown",
   "metadata": {},
   "source": [
    "### Chaining together classes\n",
    "\n",
    "Let's say we were going to follow some new practices in asking speakers about their gender, and gave them a rating scale between 0 and 10 for `masculine` and `feminine`. We could define a new `Gender` class like so:"
   ]
  },
  {
   "cell_type": "code",
   "execution_count": 51,
   "metadata": {},
   "outputs": [],
   "source": [
    "class Gender():\n",
    "    def __init__(self, masc=None, fem=None):\n",
    "        self.masc = masc\n",
    "        self.fem = fem\n",
    "\n",
    "    def __repr__(self):\n",
    "        return f\"masc: {self.masc}; fem: {self.fem}\""
   ]
  },
  {
   "cell_type": "code",
   "execution_count": 52,
   "metadata": {},
   "outputs": [
    {
     "data": {
      "text/plain": [
       "masc: 5; fem: 5"
      ]
     },
     "execution_count": 52,
     "metadata": {},
     "output_type": "execute_result"
    }
   ],
   "source": [
    "Gender(5, 5)"
   ]
  },
  {
   "cell_type": "markdown",
   "metadata": {},
   "source": [
    "We can then include a `gender` parameter within the `Speaker` class."
   ]
  },
  {
   "cell_type": "code",
   "execution_count": 53,
   "metadata": {},
   "outputs": [],
   "source": [
    "class Speaker():\n",
    "    def __init__(\n",
    "            self, \n",
    "            name = None,\n",
    "            pronoun = None,\n",
    "            gender = Gender(),\n",
    "            age = None,\n",
    "            year = None\n",
    "    ):\n",
    "        self.name = name\n",
    "        self.pronoun = pronoun\n",
    "        self.gender = gender\n",
    "        self.age = age\n",
    "        self.year = year\n",
    "\n",
    "    def __repr__(self):\n",
    "        return f\"{self.name} was interviewed in \"\\\n",
    "               f\"{self.year} when {self.pronoun} \"\\\n",
    "               f\"was {self.age} years old.\"\n",
    "    \n",
    "    # defines < between self and another obj\n",
    "    def __lt__(self, obj):\n",
    "        return self.dob < obj.dob\n",
    "    \n",
    "    # defines <= self and another obj\n",
    "    def __le__(self, obj):\n",
    "        return self.dob <= obj.dob\n",
    "    \n",
    "    # dynamically define dob\n",
    "    @property\n",
    "    def dob(self):\n",
    "        return self.year - self.age\n",
    "\n",
    "    def age_in(self, year):\n",
    "        age = year - self.dob\n",
    "        if age < 0:\n",
    "            return np.nan\n",
    "        return age\n",
    "    \n",
    "    def year_when(self, age):\n",
    "        return self.dob + age"
   ]
  },
  {
   "cell_type": "code",
   "execution_count": 54,
   "metadata": {},
   "outputs": [],
   "source": [
    "joe = Speaker(\n",
    "    name = \"Joe F\",\n",
    "    pronoun = \"he\",\n",
    "    gender = Gender(8, 2),\n",
    "    age = 39,\n",
    "    year = 2024\n",
    ")"
   ]
  },
  {
   "cell_type": "markdown",
   "metadata": {},
   "source": [
    "We can access the gender attribute with the `.` syntax."
   ]
  },
  {
   "cell_type": "code",
   "execution_count": 55,
   "metadata": {},
   "outputs": [
    {
     "data": {
      "text/plain": [
       "masc: 8; fem: 2"
      ]
     },
     "execution_count": 55,
     "metadata": {},
     "output_type": "execute_result"
    }
   ],
   "source": [
    "joe.gender"
   ]
  },
  {
   "cell_type": "markdown",
   "metadata": {},
   "source": [
    "And we can access the attributes of *that* object as well."
   ]
  },
  {
   "cell_type": "code",
   "execution_count": 56,
   "metadata": {},
   "outputs": [
    {
     "data": {
      "text/plain": [
       "8"
      ]
     },
     "execution_count": 56,
     "metadata": {},
     "output_type": "execute_result"
    }
   ],
   "source": [
    "joe.gender.masc"
   ]
  },
  {
   "cell_type": "markdown",
   "metadata": {},
   "source": [
    "### Subclases\n",
    "\n",
    "Now, let's say we wanted to generalize our `Gender` class to have any given set of labels we wanted. We can create the more generic class like so:"
   ]
  },
  {
   "cell_type": "code",
   "execution_count": 57,
   "metadata": {},
   "outputs": [],
   "source": [
    "class Gender():\n",
    "    def __init__(self, dims: dict):\n",
    "        self.dim_names = list(dims.keys())\n",
    "        self.dict = dims\n",
    "        for key in self.dim_names:\n",
    "            setattr(self, key, self.dict[key])\n",
    "\n",
    "    def __repr__(self):\n",
    "        labs = [\n",
    "            f\"{dim}: {self.dict[dim]}; \"\n",
    "            for dim in self.dim_names\n",
    "        ]\n",
    "        return \"\".join(labs)"
   ]
  },
  {
   "cell_type": "code",
   "execution_count": 58,
   "metadata": {},
   "outputs": [],
   "source": [
    "general = Gender({\"big\":9, \"small\": 2})"
   ]
  },
  {
   "cell_type": "code",
   "execution_count": 59,
   "metadata": {},
   "outputs": [
    {
     "data": {
      "text/plain": [
       "9"
      ]
     },
     "execution_count": 59,
     "metadata": {},
     "output_type": "execute_result"
    }
   ],
   "source": [
    "general.big"
   ]
  },
  {
   "cell_type": "markdown",
   "metadata": {},
   "source": [
    "Now, we can make a subclass called `BinaryGender` from the more general class."
   ]
  },
  {
   "cell_type": "code",
   "execution_count": 60,
   "metadata": {},
   "outputs": [],
   "source": [
    "class BinaryGender(Gender):\n",
    "    def __init__(self, masc = None, fem = None):\n",
    "        super().__init__(\n",
    "            {\"masc\": masc, \"fem\": fem}\n",
    "        )"
   ]
  },
  {
   "cell_type": "markdown",
   "metadata": {},
   "source": [
    "Passing `Gender` as an argument in defining the class tells python that `BinaryGender` is going to be a \"subclass\". That means any methods or properties we defined for `Gender` will be automatically available to `BinaryGender`. So, for example, we never defined the `__repr__()` function for `BinaryGender`, so it'll just use the one from `Gender`"
   ]
  },
  {
   "cell_type": "code",
   "execution_count": 61,
   "metadata": {},
   "outputs": [],
   "source": [
    "bgender = BinaryGender(masc = 8, fem = 2)"
   ]
  },
  {
   "cell_type": "code",
   "execution_count": 62,
   "metadata": {},
   "outputs": [
    {
     "data": {
      "text/plain": [
       "masc: 8; fem: 2; "
      ]
     },
     "execution_count": 62,
     "metadata": {},
     "output_type": "execute_result"
    }
   ],
   "source": [
    "bgender"
   ]
  },
  {
   "cell_type": "markdown",
   "metadata": {},
   "source": [
    "Inside of the `__init__()` method, we called this special `super().__init__()` function. That tells python to run all of the `__init__()` code from the superclass (`Gender`) with the specified arguments."
   ]
  },
  {
   "cell_type": "code",
   "execution_count": 63,
   "metadata": {},
   "outputs": [
    {
     "data": {
      "text/plain": [
       "8"
      ]
     },
     "execution_count": 63,
     "metadata": {},
     "output_type": "execute_result"
    }
   ],
   "source": [
    "bgender.masc"
   ]
  },
  {
   "cell_type": "markdown",
   "metadata": {},
   "source": []
  }
 ],
 "metadata": {
  "kernelspec": {
   "display_name": "renv-python-3.11",
   "language": "python",
   "name": "python3"
  },
  "language_info": {
   "codemirror_mode": {
    "name": "ipython",
    "version": 3
   },
   "file_extension": ".py",
   "mimetype": "text/x-python",
   "name": "python",
   "nbconvert_exporter": "python",
   "pygments_lexer": "ipython3",
   "version": "3.11.4"
  }
 },
 "nbformat": 4,
 "nbformat_minor": 2
}
