{
 "cells": [
  {
   "cell_type": "markdown",
   "metadata": {},
   "source": [
    "# Working with tokenizers\n",
    "\n",
    "Let's get a little bit practical with \n",
    "\n",
    "- getting text\n",
    "- getting a tokenizer\n",
    "- using the tokenizer\n",
    "\n",
    "\n",
    "For this lesson, we're going to use `gutenbergpy` and `nltk`, but if you try to import them right now, like they were in the course notes, you're going to get an error."
   ]
  },
  {
   "cell_type": "markdown",
   "metadata": {},
   "source": [
    "```\n",
    "---------------------------------------------------------------------------\n",
    "ModuleNotFoundError                       Traceback (most recent call last)\n",
    "Cell In[2], line 1\n",
    "----> 1 import nltk\n",
    "\n",
    "ModuleNotFoundError: No module named 'nltk'\n",
    "```"
   ]
  },
  {
   "cell_type": "markdown",
   "metadata": {},
   "source": [
    "We'll need to install these packages. will it resnap"
   ]
  },
  {
   "cell_type": "code",
   "execution_count": 2,
   "metadata": {},
   "outputs": [
    {
     "name": "stdout",
     "output_type": "stream",
     "text": [
      "Collecting aligned-textgrid\n",
      "  Using cached aligned_textgrid-0.5.0-py3-none-any.whl.metadata (5.9 kB)\n",
      "Requirement already satisfied: numpy<2.0.0,>=1.24.2 in /Users/joseffruehwald/Documents/courses/Lin511-2024.github.io/renv/python/virtualenvs/renv-python-3.11/lib/python3.11/site-packages (from aligned-textgrid) (1.26.2)\n",
      "Requirement already satisfied: polars<0.20.0,>=0.19.14 in /Users/joseffruehwald/Documents/courses/Lin511-2024.github.io/renv/python/virtualenvs/renv-python-3.11/lib/python3.11/site-packages (from aligned-textgrid) (0.19.19)\n",
      "Requirement already satisfied: praatio<7.0.0,>=6.0.0 in /Users/joseffruehwald/Documents/courses/Lin511-2024.github.io/renv/python/virtualenvs/renv-python-3.11/lib/python3.11/site-packages (from aligned-textgrid) (6.2.0)\n",
      "Requirement already satisfied: typing-extensions in /Users/joseffruehwald/Documents/courses/Lin511-2024.github.io/renv/python/virtualenvs/renv-python-3.11/lib/python3.11/site-packages (from praatio<7.0.0,>=6.0.0->aligned-textgrid) (4.9.0)\n",
      "Using cached aligned_textgrid-0.5.0-py3-none-any.whl (39 kB)\n",
      "Installing collected packages: aligned-textgrid\n",
      "Successfully installed aligned-textgrid-0.5.0\n"
     ]
    }
   ],
   "source": [
    "! pip install aligned-textgrid"
   ]
  },
  {
   "cell_type": "code",
   "execution_count": null,
   "metadata": {},
   "outputs": [],
   "source": []
  }
 ],
 "metadata": {
  "kernelspec": {
   "display_name": "renv-python-3.11",
   "language": "python",
   "name": "python3"
  },
  "language_info": {
   "codemirror_mode": {
    "name": "ipython",
    "version": 3
   },
   "file_extension": ".py",
   "mimetype": "text/x-python",
   "name": "python",
   "nbconvert_exporter": "python",
   "pygments_lexer": "ipython3",
   "version": "3.11.4"
  }
 },
 "nbformat": 4,
 "nbformat_minor": 2
}
