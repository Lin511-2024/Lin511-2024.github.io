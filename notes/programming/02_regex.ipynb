{
 "cells": [
  {
   "cell_type": "raw",
   "metadata": {},
   "source": [
    "---\n",
    "title: \"Regular Expressions, Quickly\"\n",
    "date: 2024-01-25\n",
    "categories:\n",
    "    - python\n",
    "format: html\n",
    "---"
   ]
  },
  {
   "cell_type": "markdown",
   "metadata": {},
   "source": [
    ":::{.callout-note}\n",
    "## Look at Github\n",
    "\n",
    "The *real* content is in your [`regex-in-class-<username>`](https://github.com/orgs/Lin511-2024/repositories) repository on github. This is meant to be more of a reference sheet.\n",
    ":::\n",
    "\n"
   ]
  },
  {
   "cell_type": "markdown",
   "metadata": {},
   "source": [
    ":::{.callout-note collapse=\"true\"}\n",
    "## This is just a support function"
   ]
  },
  {
   "cell_type": "code",
   "execution_count": 1,
   "metadata": {},
   "outputs": [],
   "source": [
    "import urllib.parse\n",
    "from IPython.display import display, Markdown\n",
    "\n",
    "def get_regex_url(regex: str):\n",
    "    base = \"https://regexper.com/#\"\n",
    "    url = base + urllib.parse.quote(regex)\n",
    "    url_markdown = f\"[{regex}]({url})\"\n",
    "    #return url_markdown\n",
    "    display(Markdown(url_markdown))"
   ]
  },
  {
   "cell_type": "markdown",
   "metadata": {},
   "source": [
    ":::"
   ]
  },
  {
   "cell_type": "markdown",
   "metadata": {},
   "source": [
    "## Setting up for using regular expressions in python\n",
    "\n",
    "- We'll need to import the `re` module\n",
    "- Unlike simple strings, we'll need to write our regular expressions with a preceding `r`"
   ]
  },
  {
   "cell_type": "code",
   "execution_count": 2,
   "metadata": {},
   "outputs": [
    {
     "data": {
      "text/plain": [
       "'regex'"
      ]
     },
     "execution_count": 2,
     "metadata": {},
     "output_type": "execute_result"
    }
   ],
   "source": [
    "import re\n",
    "\n",
    "r\"regex\""
   ]
  },
  {
   "cell_type": "markdown",
   "metadata": {},
   "source": [
    "## Important `re` functions\n",
    "\n",
    "Two ways to use `re` to search strings are\n",
    "\n",
    "`re.search()`\n",
    ": Return structured information about *where* the regex matches.\n",
    "\n",
    "`re.findall()`\n",
    ": Return all actual matching substrings"
   ]
  },
  {
   "cell_type": "code",
   "execution_count": 3,
   "metadata": {},
   "outputs": [],
   "source": [
    "sentence1 = \"The speaker is speaking.\""
   ]
  },
  {
   "cell_type": "markdown",
   "metadata": {},
   "source": [
    "### `re.search()`"
   ]
  },
  {
   "cell_type": "code",
   "execution_count": 4,
   "metadata": {},
   "outputs": [
    {
     "data": {
      "text/plain": [
       "<re.Match object; span=(4, 9), match='speak'>"
      ]
     },
     "execution_count": 4,
     "metadata": {},
     "output_type": "execute_result"
    }
   ],
   "source": [
    "re.search(r\"speak\", sentence1)"
   ]
  },
  {
   "cell_type": "code",
   "execution_count": 5,
   "metadata": {},
   "outputs": [
    {
     "data": {
      "text/plain": [
       "'speak'"
      ]
     },
     "execution_count": 5,
     "metadata": {},
     "output_type": "execute_result"
    }
   ],
   "source": [
    "sentence1[4:9]"
   ]
  },
  {
   "cell_type": "markdown",
   "metadata": {},
   "source": [
    "### `re.findall()`"
   ]
  },
  {
   "cell_type": "code",
   "execution_count": 6,
   "metadata": {},
   "outputs": [
    {
     "data": {
      "text/plain": [
       "['speak', 'speak']"
      ]
     },
     "execution_count": 6,
     "metadata": {},
     "output_type": "execute_result"
    }
   ],
   "source": [
    "re.findall(r\"speak\", sentence1)"
   ]
  },
  {
   "cell_type": "markdown",
   "metadata": {},
   "source": [
    "## Simple character searches\n",
    "\n",
    "Like the examples above, literally the characters you want to use will match."
   ]
  },
  {
   "cell_type": "code",
   "execution_count": 7,
   "metadata": {},
   "outputs": [
    {
     "data": {
      "text/markdown": [
       "[speak](https://regexper.com/#speak)"
      ],
      "text/plain": [
       "<IPython.core.display.Markdown object>"
      ]
     },
     "metadata": {},
     "output_type": "display_data"
    }
   ],
   "source": [
    "#| results: asis\n",
    "speak_regex = r\"speak\"\n",
    "get_regex_url(speak_regex)"
   ]
  },
  {
   "cell_type": "markdown",
   "metadata": {},
   "source": [
    "## Options\n",
    "\n",
    "If you want some characters to be chosen from a set of options, place them in `[]`."
   ]
  },
  {
   "cell_type": "code",
   "execution_count": 8,
   "metadata": {},
   "outputs": [
    {
     "data": {
      "text/markdown": [
       "[[aeiou]](https://regexper.com/#%5Baeiou%5D)"
      ],
      "text/plain": [
       "<IPython.core.display.Markdown object>"
      ]
     },
     "metadata": {},
     "output_type": "display_data"
    }
   ],
   "source": [
    "vowels_regex = r\"[aeiou]\"\n",
    "get_regex_url(vowels_regex)"
   ]
  },
  {
   "cell_type": "code",
   "execution_count": 9,
   "metadata": {},
   "outputs": [
    {
     "data": {
      "text/plain": [
       "['e', 'e', 'a', 'e', 'i', 'e', 'a', 'i']"
      ]
     },
     "execution_count": 9,
     "metadata": {},
     "output_type": "execute_result"
    }
   ],
   "source": [
    "re.findall(r\"[aeiou]\", sentence1)"
   ]
  },
  {
   "cell_type": "code",
   "execution_count": 10,
   "metadata": {},
   "outputs": [
    {
     "data": {
      "text/markdown": [
       "[[Tt]he](https://regexper.com/#%5BTt%5Dhe)"
      ],
      "text/plain": [
       "<IPython.core.display.Markdown object>"
      ]
     },
     "metadata": {},
     "output_type": "display_data"
    }
   ],
   "source": [
    "the_regex = r\"[Tt]he\"\n",
    "get_regex_url(the_regex)"
   ]
  },
  {
   "cell_type": "code",
   "execution_count": 11,
   "metadata": {},
   "outputs": [
    {
     "data": {
      "text/plain": [
       "['The']"
      ]
     },
     "execution_count": 11,
     "metadata": {},
     "output_type": "execute_result"
    }
   ],
   "source": [
    "re.findall(the_regex, sentence1)"
   ]
  },
  {
   "cell_type": "markdown",
   "metadata": {},
   "source": [
    "### Ranges\n",
    "\n",
    "Ranges of characters or numbers can be given inside `[]` like so"
   ]
  },
  {
   "cell_type": "code",
   "execution_count": 12,
   "metadata": {},
   "outputs": [
    {
     "data": {
      "text/markdown": [
       "[[a-z]](https://regexper.com/#%5Ba-z%5D)"
      ],
      "text/plain": [
       "<IPython.core.display.Markdown object>"
      ]
     },
     "metadata": {},
     "output_type": "display_data"
    },
    {
     "data": {
      "text/markdown": [
       "[[A-Z]](https://regexper.com/#%5BA-Z%5D)"
      ],
      "text/plain": [
       "<IPython.core.display.Markdown object>"
      ]
     },
     "metadata": {},
     "output_type": "display_data"
    },
    {
     "data": {
      "text/markdown": [
       "[[0-9]](https://regexper.com/#%5B0-9%5D)"
      ],
      "text/plain": [
       "<IPython.core.display.Markdown object>"
      ]
     },
     "metadata": {},
     "output_type": "display_data"
    },
    {
     "data": {
      "text/markdown": [
       "[[A-Za-z]](https://regexper.com/#%5BA-Za-z%5D)"
      ],
      "text/plain": [
       "<IPython.core.display.Markdown object>"
      ]
     },
     "metadata": {},
     "output_type": "display_data"
    }
   ],
   "source": [
    "get_regex_url(r\"[a-z]\")\n",
    "get_regex_url(r\"[A-Z]\")\n",
    "get_regex_url(r\"[0-9]\")\n",
    "get_regex_url(r\"[A-Za-z]\")"
   ]
  },
  {
   "cell_type": "markdown",
   "metadata": {},
   "source": [
    "### \"Metacharacters\"\n",
    "\n",
    "- `\\w` == `[A-Za-z0-9_]`\n",
    "  - word characters\n",
    "- `\\W` == `[^A-Za-z0-9_]`\n",
    "  - non-word characters\n",
    "- `\\d` == `[0-9]`\n",
    "  - digits\n",
    "- `\\D` == `[^0-9]`\n",
    "  - non-digits\n",
    "- `\\s` == `[ \\t\\n]`\n",
    "  - Any whitespace character\n",
    "- `\\S` == `[^ \\t\\n]`\n",
    "  - non-whitespace\n",
    "  \n",
    "\n",
    "### Any Character\n",
    "\n",
    "To match *any* character (letter, number, punctuation, space, etc.) use `.` or \"dot\""
   ]
  },
  {
   "cell_type": "code",
   "execution_count": 13,
   "metadata": {},
   "outputs": [
    {
     "data": {
      "text/plain": [
       "['Th', 'e ', 'sp', 'ea', 'ke', 'r ', 'is', 'sp', 'ea', 'ki', 'ng']"
      ]
     },
     "execution_count": 13,
     "metadata": {},
     "output_type": "execute_result"
    }
   ],
   "source": [
    "re.findall(\n",
    "    # return every word character and \n",
    "    # the following character\n",
    "    r\"\\w.\",\n",
    "    sentence1\n",
    ")"
   ]
  },
  {
   "cell_type": "markdown",
   "metadata": {},
   "source": [
    "### Escaping special symbols\n",
    "\n",
    "If you wanted to find the actual period in `sentence1`, you'd have to \"escape\" the `.` with a preceding `\n",
    "`\\`."
   ]
  },
  {
   "cell_type": "code",
   "execution_count": 14,
   "metadata": {},
   "outputs": [
    {
     "data": {
      "text/markdown": [
       "[.](https://regexper.com/#.)"
      ],
      "text/plain": [
       "<IPython.core.display.Markdown object>"
      ]
     },
     "metadata": {},
     "output_type": "display_data"
    },
    {
     "data": {
      "text/markdown": [
       "[\\.](https://regexper.com/#%5C.)"
      ],
      "text/plain": [
       "<IPython.core.display.Markdown object>"
      ]
     },
     "metadata": {},
     "output_type": "display_data"
    }
   ],
   "source": [
    "# compare\n",
    "get_regex_url(r\".\")\n",
    "get_regex_url(r\"\\.\")"
   ]
  },
  {
   "cell_type": "code",
   "execution_count": 15,
   "metadata": {},
   "outputs": [
    {
     "data": {
      "text/plain": [
       "['.']"
      ]
     },
     "execution_count": 15,
     "metadata": {},
     "output_type": "execute_result"
    }
   ],
   "source": [
    "re.findall(\n",
    "    \"\\.\",\n",
    "    sentence1\n",
    ")"
   ]
  },
  {
   "cell_type": "markdown",
   "metadata": {},
   "source": [
    "## Modifiers\n",
    "\n",
    "Modifiers come after the definition of a single character, and define *how many times* that character can appear.\n",
    "\n",
    "- `a?` = zero or one `a`\n",
    "- `a+` = one or more `a`\n",
    "- `a*` = zero or more `a`"
   ]
  },
  {
   "cell_type": "code",
   "execution_count": 16,
   "metadata": {},
   "outputs": [
    {
     "data": {
      "text/markdown": [
       "[bana?na](https://regexper.com/#bana%3Fna)"
      ],
      "text/plain": [
       "<IPython.core.display.Markdown object>"
      ]
     },
     "metadata": {},
     "output_type": "display_data"
    },
    {
     "data": {
      "text/markdown": [
       "[bana+na](https://regexper.com/#bana%2Bna)"
      ],
      "text/plain": [
       "<IPython.core.display.Markdown object>"
      ]
     },
     "metadata": {},
     "output_type": "display_data"
    },
    {
     "data": {
      "text/markdown": [
       "[bana*na](https://regexper.com/#bana%2Ana)"
      ],
      "text/plain": [
       "<IPython.core.display.Markdown object>"
      ]
     },
     "metadata": {},
     "output_type": "display_data"
    }
   ],
   "source": [
    "get_regex_url(r\"bana?na\")\n",
    "get_regex_url(r\"bana+na\")\n",
    "get_regex_url(r\"bana*na\")\n"
   ]
  },
  {
   "cell_type": "markdown",
   "metadata": {},
   "source": [
    "## Grouping\n",
    "\n",
    "You can define groupings within regular expressions. The *effect* of these groupings depends what kind of regex function you're using. For `re.findall()`, it'll find the whole string, but return just the text from the grouping."
   ]
  },
  {
   "cell_type": "code",
   "execution_count": 17,
   "metadata": {},
   "outputs": [],
   "source": [
    "sentence2 = \"The big bear and the small bear ran away.\""
   ]
  },
  {
   "cell_type": "code",
   "execution_count": 18,
   "metadata": {},
   "outputs": [
    {
     "data": {
      "text/markdown": [
       "[[Tt]he (\\w+) bear](https://regexper.com/#%5BTt%5Dhe%20%28%5Cw%2B%29%20bear)"
      ],
      "text/plain": [
       "<IPython.core.display.Markdown object>"
      ]
     },
     "metadata": {},
     "output_type": "display_data"
    }
   ],
   "source": [
    "get_regex_url(r\"[Tt]he (\\w+) bear\")"
   ]
  },
  {
   "cell_type": "code",
   "execution_count": 19,
   "metadata": {},
   "outputs": [
    {
     "data": {
      "text/plain": [
       "['big', 'small']"
      ]
     },
     "execution_count": 19,
     "metadata": {},
     "output_type": "execute_result"
    }
   ],
   "source": [
    "re.findall(\n",
    "    r\"[Tt]he (\\w+) bear\",\n",
    "    sentence2\n",
    ")"
   ]
  },
  {
   "cell_type": "markdown",
   "metadata": {},
   "source": [
    "## Boundaries\n",
    "\n",
    "- `^the ` == Finds \"the \" at the *start* of a string.\n",
    "\n",
    "- ` the$` == Finds \" the\" at the *end* of a string.\n",
    "\n",
    "- `\\bthe\\b` == Finds \"the\" in between word boundaries."
   ]
  },
  {
   "cell_type": "code",
   "execution_count": 20,
   "metadata": {},
   "outputs": [
    {
     "data": {
      "text/markdown": [
       "[^the ](https://regexper.com/#%5Ethe%20)"
      ],
      "text/plain": [
       "<IPython.core.display.Markdown object>"
      ]
     },
     "metadata": {},
     "output_type": "display_data"
    },
    {
     "data": {
      "text/markdown": [
       "[ the$](https://regexper.com/#%20the%24)"
      ],
      "text/plain": [
       "<IPython.core.display.Markdown object>"
      ]
     },
     "metadata": {},
     "output_type": "display_data"
    },
    {
     "data": {
      "text/markdown": [
       "[\\bthe\\b](https://regexper.com/#%5Cbthe%5Cb)"
      ],
      "text/plain": [
       "<IPython.core.display.Markdown object>"
      ]
     },
     "metadata": {},
     "output_type": "display_data"
    }
   ],
   "source": [
    "get_regex_url(r\"^the \")\n",
    "get_regex_url(r\" the$\")\n",
    "get_regex_url(r\"\\bthe\\b\")"
   ]
  },
  {
   "cell_type": "code",
   "execution_count": 21,
   "metadata": {},
   "outputs": [
    {
     "data": {
      "text/plain": [
       "['the', 'the']"
      ]
     },
     "execution_count": 21,
     "metadata": {},
     "output_type": "execute_result"
    }
   ],
   "source": [
    "sentence3 = \"I saw the other bear.\"\n",
    "re.findall(\n",
    "    r\"the\",\n",
    "    sentence3\n",
    ")"
   ]
  },
  {
   "cell_type": "markdown",
   "metadata": {},
   "source": [
    "The second \"the\" there comes from inside \"o**the**r\""
   ]
  },
  {
   "cell_type": "code",
   "execution_count": 26,
   "metadata": {},
   "outputs": [
    {
     "data": {
      "text/plain": [
       "['the']"
      ]
     },
     "execution_count": 26,
     "metadata": {},
     "output_type": "execute_result"
    }
   ],
   "source": [
    "re.findall(\n",
    "    r\"\\bthe\\b\",\n",
    "    sentence3\n",
    ")"
   ]
  },
  {
   "cell_type": "code",
   "execution_count": 23,
   "metadata": {},
   "outputs": [
    {
     "data": {
      "text/plain": [
       "'I saw the other bear.'"
      ]
     },
     "execution_count": 23,
     "metadata": {},
     "output_type": "execute_result"
    }
   ],
   "source": [
    "sentence3"
   ]
  }
 ],
 "metadata": {
  "kernelspec": {
   "display_name": "Lin511",
   "language": "python",
   "name": "python3"
  },
  "language_info": {
   "codemirror_mode": {
    "name": "ipython",
    "version": 3
   },
   "file_extension": ".py",
   "mimetype": "text/x-python",
   "name": "python",
   "nbconvert_exporter": "python",
   "pygments_lexer": "ipython3",
   "version": "3.11.4"
  }
 },
 "nbformat": 4,
 "nbformat_minor": 2
}
