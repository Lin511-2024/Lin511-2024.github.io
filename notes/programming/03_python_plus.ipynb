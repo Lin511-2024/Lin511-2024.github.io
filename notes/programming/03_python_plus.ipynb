{
 "cells": [
  {
   "cell_type": "raw",
   "metadata": {},
   "source": [
    "---\n",
    "title: More Python\n",
    "date: 2024-01-30\n",
    "categories: \n",
    "    - python\n",
    "filters:\n",
    "    - codeblocklabel\n",
    "---"
   ]
  },
  {
   "cell_type": "markdown",
   "metadata": {},
   "source": [
    "This lesson has two goals:\n",
    "\n",
    "1. Begin walking you through processing text in Python, with an eye towards our next computational linguistics topic: ngram models.\n",
    "2. To introduce you to additional datastructures that we didn't get to cover in the original python workthrough.\n",
    "\n",
    "## Finding and reading in files\n",
    "\n",
    "In order to read in a file, first we need to tell python *where* a file is. We'll do this with `pathlib.Path()`."
   ]
  },
  {
   "cell_type": "code",
   "execution_count": 1,
   "metadata": {},
   "outputs": [],
   "source": [
    "from pathlib import Path"
   ]
  },
  {
   "cell_type": "code",
   "execution_count": null,
   "metadata": {},
   "outputs": [],
   "source": []
  }
 ],
 "metadata": {
  "kernelspec": {
   "display_name": "Python 3",
   "language": "python",
   "name": "python3"
  },
  "language_info": {
   "codemirror_mode": {
    "name": "ipython",
    "version": 3
   },
   "file_extension": ".py",
   "mimetype": "text/x-python",
   "name": "python",
   "nbconvert_exporter": "python",
   "pygments_lexer": "ipython3",
   "version": "3.11.4"
  }
 },
 "nbformat": 4,
 "nbformat_minor": 2
}
