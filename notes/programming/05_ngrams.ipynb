{
 "cells": [
  {
   "cell_type": "raw",
   "metadata": {},
   "source": [
    "---\n",
    "title: Making and Counting ngrams in python\n",
    "date: 2024-02-13\n",
    "categories:\n",
    "    - python\n",
    "---"
   ]
  },
  {
   "cell_type": "markdown",
   "metadata": {},
   "source": [
    "Here, we'll work through some of the practicalities of creating and counting ngrams from text."
   ]
  },
  {
   "cell_type": "markdown",
   "metadata": {},
   "source": [
    "## First, unigrams\n"
   ]
  },
  {
   "cell_type": "code",
   "execution_count": 1,
   "metadata": {},
   "outputs": [],
   "source": [
    "from gutenbergpy.textget import get_text_by_id, strip_headers\n",
    "def get_clean_book(book_id):\n",
    "    \"\"\"Get the cleaned book\n",
    "\n",
    "    Args:\n",
    "        book_id (str|int): The book id\n",
    "\n",
    "    Returns:\n",
    "        (str): The full book\n",
    "    \"\"\"\n",
    "    raw_book = get_text_by_id(book_id)\n",
    "    book_byte = strip_headers(raw_book)\n",
    "    book_clean = book_byte.decode(\"utf-8\")\n",
    "\n",
    "    return book_clean"
   ]
  },
  {
   "cell_type": "code",
   "execution_count": 2,
   "metadata": {},
   "outputs": [],
   "source": [
    "moby_dick = get_clean_book(2701)"
   ]
  },
  {
   "cell_type": "markdown",
   "metadata": {},
   "source": [
    "Next, tokenize"
   ]
  },
  {
   "cell_type": "code",
   "execution_count": 3,
   "metadata": {},
   "outputs": [],
   "source": [
    "from nltk.tokenize import word_tokenize\n",
    "\n",
    "moby_words = word_tokenize(moby_dick)"
   ]
  },
  {
   "cell_type": "markdown",
   "metadata": {},
   "source": [
    "Next, count"
   ]
  },
  {
   "cell_type": "code",
   "execution_count": 6,
   "metadata": {},
   "outputs": [
    {
     "data": {
      "text/plain": [
       "[(',', 19211),\n",
       " ('the', 13717),\n",
       " ('.', 7164),\n",
       " ('of', 6563),\n",
       " ('and', 6009),\n",
       " ('to', 4515),\n",
       " ('a', 4507),\n",
       " (';', 4178),\n",
       " ('in', 3915),\n",
       " ('that', 2918)]"
      ]
     },
     "execution_count": 6,
     "metadata": {},
     "output_type": "execute_result"
    }
   ],
   "source": [
    "from collections import Counter\n",
    "\n",
    "moby_count = Counter(moby_words)\n",
    "moby_count.most_common(10)"
   ]
  },
  {
   "cell_type": "markdown",
   "metadata": {},
   "source": [
    "The *\"unigram\"* probability of a word:\n",
    "$$\n",
    "P(w_i) = \\frac{C(w_i)}{\\sum_{i=1}^n C(w_i)}\n",
    "$$\n",
    "\n",
    "We can get $C(w_i)$ from the counter dictionary"
   ]
  },
  {
   "cell_type": "code",
   "execution_count": 7,
   "metadata": {},
   "outputs": [
    {
     "data": {
      "text/plain": [
       "771"
      ]
     },
     "execution_count": 7,
     "metadata": {},
     "output_type": "execute_result"
    }
   ],
   "source": [
    "moby_count[\"whale\"]"
   ]
  },
  {
   "cell_type": "markdown",
   "metadata": {},
   "source": [
    "The trickier thing to get is $\\sum_{i=1}^n C(w_i)$. One way to do it is with a for loop."
   ]
  },
  {
   "cell_type": "code",
   "execution_count": 11,
   "metadata": {},
   "outputs": [
    {
     "data": {
      "text/plain": [
       "255958"
      ]
     },
     "execution_count": 11,
     "metadata": {},
     "output_type": "execute_result"
    }
   ],
   "source": [
    "total_freq = 0\n",
    "for word in moby_count:\n",
    "    total_freq += moby_count[word]\n",
    "\n",
    "total_freq"
   ]
  },
  {
   "cell_type": "code",
   "execution_count": 12,
   "metadata": {},
   "outputs": [
    {
     "data": {
      "text/plain": [
       "0.0030122129411856635"
      ]
     },
     "execution_count": 12,
     "metadata": {},
     "output_type": "execute_result"
    }
   ],
   "source": [
    "moby_prob = {}\n",
    "for word in moby_count:\n",
    "    moby_prob[word] = moby_count[word] / total_freq\n",
    "\n",
    "moby_prob[\"whale\"]"
   ]
  },
  {
   "cell_type": "markdown",
   "metadata": {},
   "source": [
    "## Introducing numpy\n",
    "\n",
    "`numpy` is a python package that allows you to do numeric computation more easilly."
   ]
  },
  {
   "cell_type": "code",
   "execution_count": 13,
   "metadata": {},
   "outputs": [],
   "source": [
    "## if you need to install it:\n",
    "# ! pip install numpy\n",
    "\n",
    "import numpy as np"
   ]
  },
  {
   "cell_type": "code",
   "execution_count": 14,
   "metadata": {},
   "outputs": [],
   "source": [
    "sample_array = np.array([0, 1, 3])"
   ]
  },
  {
   "cell_type": "code",
   "execution_count": 19,
   "metadata": {},
   "outputs": [
    {
     "data": {
      "text/plain": [
       "4"
      ]
     },
     "execution_count": 19,
     "metadata": {},
     "output_type": "execute_result"
    }
   ],
   "source": [
    "sample_array.sum()"
   ]
  },
  {
   "cell_type": "code",
   "execution_count": 20,
   "metadata": {},
   "outputs": [
    {
     "data": {
      "text/plain": [
       "array([0.  , 0.25, 0.75])"
      ]
     },
     "execution_count": 20,
     "metadata": {},
     "output_type": "execute_result"
    }
   ],
   "source": [
    "sample_array/sample_array.sum()"
   ]
  },
  {
   "cell_type": "code",
   "execution_count": 22,
   "metadata": {},
   "outputs": [
    {
     "data": {
      "text/plain": [
       "[0, 3]"
      ]
     },
     "execution_count": 22,
     "metadata": {},
     "output_type": "execute_result"
    }
   ],
   "source": [
    "[\n",
    "    sample_array.min(), \n",
    "    sample_array.max()\n",
    "]"
   ]
  },
  {
   "cell_type": "markdown",
   "metadata": {},
   "source": [
    "Relating words, counts and probabilities"
   ]
  },
  {
   "cell_type": "code",
   "execution_count": 24,
   "metadata": {},
   "outputs": [],
   "source": [
    "word_list = [w for w in moby_count]\n",
    "count_array = np.array([moby_count[w] for w in word_list])\n",
    "\n",
    "prob_array = count_array / count_array.sum()"
   ]
  },
  {
   "cell_type": "markdown",
   "metadata": {},
   "source": [
    ":::{layout-ncol=2}\n",
    "\n",
    "::::{.column}\n",
    "\n",
    "$$\n",
    "\\frac{C(w_i)}{\\sum_{i=1}^n w_i}\n",
    "$$\n",
    "\n",
    "::::\n",
    "\n",
    "::::{.column}\n",
    "\n",
    "```python\n",
    "count_array / count_array.sum()\n",
    "```\n",
    "\n",
    "::::\n",
    "\n",
    ":::"
   ]
  },
  {
   "cell_type": "markdown",
   "metadata": {},
   "source": []
  }
 ],
 "metadata": {
  "kernelspec": {
   "display_name": "renv-python-3.11",
   "language": "python",
   "name": "python3"
  },
  "language_info": {
   "codemirror_mode": {
    "name": "ipython",
    "version": 3
   },
   "file_extension": ".py",
   "mimetype": "text/x-python",
   "name": "python",
   "nbconvert_exporter": "python",
   "pygments_lexer": "ipython3",
   "version": "3.11.4"
  }
 },
 "nbformat": 4,
 "nbformat_minor": 2
}
